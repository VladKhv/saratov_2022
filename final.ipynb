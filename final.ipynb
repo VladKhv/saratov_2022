{
 "cells": [
  {
   "cell_type": "markdown",
   "id": "9d26b394",
   "metadata": {},
   "source": [
    "# Подключаем необходимые библиотеки"
   ]
  },
  {
   "cell_type": "code",
   "execution_count": 1,
   "id": "6b737a06",
   "metadata": {},
   "outputs": [],
   "source": [
    "%matplotlib inline\n",
    "\n",
    "import gc\n",
    "import os\n",
    "import sys\n",
    "import pandas as pd\n",
    "import numpy as np\n",
    "import tqdm\n",
    "import seaborn as sns\n",
    "from scipy.stats import mode\n",
    "\n",
    "from catboost import CatBoostClassifier, Pool\n",
    "from catboost import Pool, EShapCalcType, EFeaturesSelectionAlgorithm\n",
    "from sklearn.model_selection import cross_val_score\n",
    "from sklearn.metrics import recall_score, precision_score\n",
    "import platform\n",
    "from collections import Counter\n",
    "from sklearn.metrics import recall_score, matthews_corrcoef\n",
    "from lightgbm import LGBMClassifier, log_evaluation\n",
    "from lightgbm import early_stopping\n",
    "\n",
    "import matplotlib\n",
    "import matplotlib.pyplot as plt \n",
    "\n",
    "from sklearn.model_selection import train_test_split, StratifiedKFold, KFold\n",
    "from sklearn.metrics import roc_auc_score, matthews_corrcoef, accuracy_score\n",
    "from sklearn.metrics import recall_score, precision_score\n",
    "from sklearn.metrics import classification_report\n",
    "from scipy import stats\n",
    "\n",
    "from sklearn.preprocessing import LabelEncoder\n",
    "\n",
    "# если у вас есть CUDA, то она понадобится там для экспериментов в catboost\n",
    "os.environ[\"CUDA_VISIBLE_DEVICES\"] = '0'\n",
    "\n",
    "task_type = 'GPU'\n",
    "if platform.node() == 'VLAD2016':\n",
    "    task_type = 'CPU'\n",
    "    \n",
    "import warnings\n",
    "warnings.simplefilter(action = 'ignore', category = FutureWarning)\n",
    "warnings.simplefilter(action = 'ignore', category = DeprecationWarning)\n",
    "warnings.simplefilter(action = 'ignore', category = UserWarning)\n",
    "warnings.simplefilter(action = 'ignore', category = RuntimeWarning)\n",
    "warnings.filterwarnings(\"ignore\", message = \"numpy.dtype size changed\")\n",
    "warnings.filterwarnings(\"ignore\", message = \"numpy.ufunc size changed\")\n",
    "pd.options.mode.chained_assignment = None\n",
    "\n",
    "DEBUG = False\n",
    "target = 'groups'"
   ]
  },
  {
   "cell_type": "markdown",
   "id": "1666f0dc",
   "metadata": {},
   "source": [
    "# Загружаю данные и вывожу первые 3 строки"
   ]
  },
  {
   "cell_type": "code",
   "execution_count": 2,
   "id": "930e47aa",
   "metadata": {},
   "outputs": [
    {
     "data": {
      "text/html": [
       "<div>\n",
       "<style scoped>\n",
       "    .dataframe tbody tr th:only-of-type {\n",
       "        vertical-align: middle;\n",
       "    }\n",
       "\n",
       "    .dataframe tbody tr th {\n",
       "        vertical-align: top;\n",
       "    }\n",
       "\n",
       "    .dataframe thead th {\n",
       "        text-align: right;\n",
       "    }\n",
       "</style>\n",
       "<table border=\"1\" class=\"dataframe\">\n",
       "  <thead>\n",
       "    <tr style=\"text-align: right;\">\n",
       "      <th></th>\n",
       "      <th>id</th>\n",
       "      <th>name</th>\n",
       "      <th>groups</th>\n",
       "    </tr>\n",
       "  </thead>\n",
       "  <tbody>\n",
       "    <tr>\n",
       "      <th>0</th>\n",
       "      <td>1034</td>\n",
       "      <td>ШОК-ЦЕНА Пена д/душа/бритья КУППЕР 200 мл АКС</td>\n",
       "      <td>10</td>\n",
       "    </tr>\n",
       "    <tr>\n",
       "      <th>1</th>\n",
       "      <td>1035</td>\n",
       "      <td>Мин.вода Нагутская №26    0.5л</td>\n",
       "      <td>0</td>\n",
       "    </tr>\n",
       "    <tr>\n",
       "      <th>2</th>\n",
       "      <td>1036</td>\n",
       "      <td>Пельмени Домашние вес ПО Прямицино.</td>\n",
       "      <td>10</td>\n",
       "    </tr>\n",
       "  </tbody>\n",
       "</table>\n",
       "</div>"
      ],
      "text/plain": [
       "     id                                           name  groups\n",
       "0  1034  ШОК-ЦЕНА Пена д/душа/бритья КУППЕР 200 мл АКС      10\n",
       "1  1035                 Мин.вода Нагутская №26    0.5л       0\n",
       "2  1036            Пельмени Домашние вес ПО Прямицино.      10"
      ]
     },
     "execution_count": 2,
     "metadata": {},
     "output_type": "execute_result"
    }
   ],
   "source": [
    "dtrain = pd.read_csv('../input2/train_dataset_train.csv')\n",
    "dtrain.head(3)"
   ]
  },
  {
   "cell_type": "code",
   "execution_count": 3,
   "id": "9fc1c8e8",
   "metadata": {},
   "outputs": [
    {
     "data": {
      "text/html": [
       "<div>\n",
       "<style scoped>\n",
       "    .dataframe tbody tr th:only-of-type {\n",
       "        vertical-align: middle;\n",
       "    }\n",
       "\n",
       "    .dataframe tbody tr th {\n",
       "        vertical-align: top;\n",
       "    }\n",
       "\n",
       "    .dataframe thead th {\n",
       "        text-align: right;\n",
       "    }\n",
       "</style>\n",
       "<table border=\"1\" class=\"dataframe\">\n",
       "  <thead>\n",
       "    <tr style=\"text-align: right;\">\n",
       "      <th></th>\n",
       "      <th>id</th>\n",
       "      <th>name</th>\n",
       "    </tr>\n",
       "  </thead>\n",
       "  <tbody>\n",
       "    <tr>\n",
       "      <th>0</th>\n",
       "      <td>10529</td>\n",
       "      <td>КАРАМЕЛЬ \"ЛАКОМКА-СУПЕРМОЛОЧНАЯ\" ВЕС (РОТ ФРОНТ)</td>\n",
       "    </tr>\n",
       "    <tr>\n",
       "      <th>1</th>\n",
       "      <td>10530</td>\n",
       "      <td>2: 3637233 РАЭ Масло ТРАДИЦ.слив.82,5% 1</td>\n",
       "    </tr>\n",
       "    <tr>\n",
       "      <th>2</th>\n",
       "      <td>10531</td>\n",
       "      <td>960012-LG NS  Бинт эластичный Classic лаймовый...</td>\n",
       "    </tr>\n",
       "  </tbody>\n",
       "</table>\n",
       "</div>"
      ],
      "text/plain": [
       "      id                                               name\n",
       "0  10529   КАРАМЕЛЬ \"ЛАКОМКА-СУПЕРМОЛОЧНАЯ\" ВЕС (РОТ ФРОНТ)\n",
       "1  10530           2: 3637233 РАЭ Масло ТРАДИЦ.слив.82,5% 1\n",
       "2  10531  960012-LG NS  Бинт эластичный Classic лаймовый..."
      ]
     },
     "execution_count": 3,
     "metadata": {},
     "output_type": "execute_result"
    }
   ],
   "source": [
    "dtest = pd.read_csv(\n",
    "    '../input2/test_dataset_test.csv',\n",
    "    na_values = 'NULL'\n",
    ")\n",
    "dtest.head(3)"
   ]
  },
  {
   "cell_type": "markdown",
   "id": "7eab694f",
   "metadata": {},
   "source": [
    "# Небольшая обработка - удаляю лишние пробелы и привожу в нижний регистр"
   ]
  },
  {
   "cell_type": "code",
   "execution_count": 4,
   "id": "9b7971a5",
   "metadata": {},
   "outputs": [],
   "source": [
    "for df in [dtrain, dtest]:\n",
    "    df['name'] = df['name'].apply(lambda x: str(x).strip(' '))\n",
    "    df['name'] = df['name'].apply(lambda x: str(x).lower())"
   ]
  },
  {
   "cell_type": "markdown",
   "id": "c2bd56aa",
   "metadata": {},
   "source": [
    "# Удаляю дубликаты"
   ]
  },
  {
   "cell_type": "code",
   "execution_count": 5,
   "id": "19014f44",
   "metadata": {},
   "outputs": [
    {
     "name": "stdout",
     "output_type": "stream",
     "text": [
      "(658064, 3)\n",
      "(658041, 4)\n"
     ]
    }
   ],
   "source": [
    "print(dtrain.shape)\n",
    "\n",
    "dtrain['hash'] = dtrain['name'].apply(lambda x: hash(x))\n",
    "\n",
    "temp = dtrain.drop_duplicates(subset = ['hash'])\n",
    "\n",
    "dublicates = dtrain[~dtrain.index.isin(temp.index)]\n",
    "dtrain = dtrain.drop_duplicates(subset = ['hash'])\n",
    "dtrain.reset_index(drop = True, inplace = True)\n",
    "print(dtrain.shape)\n",
    "\n",
    "#dublicates"
   ]
  },
  {
   "cell_type": "markdown",
   "id": "ff8cf10a",
   "metadata": {},
   "source": [
    "# Добавляю колонку \"len\" (длина текста в колонке \"name\"). Сортирую по \"len\". Смотрю и удивляюсь."
   ]
  },
  {
   "cell_type": "code",
   "execution_count": 6,
   "id": "f0dbd566",
   "metadata": {},
   "outputs": [
    {
     "data": {
      "text/html": [
       "<div>\n",
       "<style scoped>\n",
       "    .dataframe tbody tr th:only-of-type {\n",
       "        vertical-align: middle;\n",
       "    }\n",
       "\n",
       "    .dataframe tbody tr th {\n",
       "        vertical-align: top;\n",
       "    }\n",
       "\n",
       "    .dataframe thead th {\n",
       "        text-align: right;\n",
       "    }\n",
       "</style>\n",
       "<table border=\"1\" class=\"dataframe\">\n",
       "  <thead>\n",
       "    <tr style=\"text-align: right;\">\n",
       "      <th></th>\n",
       "      <th>id</th>\n",
       "      <th>name</th>\n",
       "      <th>groups</th>\n",
       "      <th>hash</th>\n",
       "      <th>len</th>\n",
       "    </tr>\n",
       "  </thead>\n",
       "  <tbody>\n",
       "    <tr>\n",
       "      <th>33749</th>\n",
       "      <td>34784</td>\n",
       "      <td>9\"</td>\n",
       "      <td>10</td>\n",
       "      <td>1994261734662351582</td>\n",
       "      <td>2</td>\n",
       "    </tr>\n",
       "    <tr>\n",
       "      <th>113586</th>\n",
       "      <td>114621</td>\n",
       "      <td>.\"</td>\n",
       "      <td>10</td>\n",
       "      <td>4596263415246832009</td>\n",
       "      <td>2</td>\n",
       "    </tr>\n",
       "    <tr>\n",
       "      <th>495140</th>\n",
       "      <td>496188</td>\n",
       "      <td>3\"</td>\n",
       "      <td>3</td>\n",
       "      <td>374543380145529213</td>\n",
       "      <td>2</td>\n",
       "    </tr>\n",
       "    <tr>\n",
       "      <th>438973</th>\n",
       "      <td>440014</td>\n",
       "      <td>е\"</td>\n",
       "      <td>10</td>\n",
       "      <td>7620594383579161725</td>\n",
       "      <td>2</td>\n",
       "    </tr>\n",
       "    <tr>\n",
       "      <th>10206</th>\n",
       "      <td>11240</td>\n",
       "      <td>г\"</td>\n",
       "      <td>10</td>\n",
       "      <td>638295317084937686</td>\n",
       "      <td>2</td>\n",
       "    </tr>\n",
       "    <tr>\n",
       "      <th>...</th>\n",
       "      <td>...</td>\n",
       "      <td>...</td>\n",
       "      <td>...</td>\n",
       "      <td>...</td>\n",
       "      <td>...</td>\n",
       "    </tr>\n",
       "    <tr>\n",
       "      <th>42212</th>\n",
       "      <td>43247</td>\n",
       "      <td>биг мак сет (с чикен макнаггетс 9 шт.): биг ма...</td>\n",
       "      <td>10</td>\n",
       "      <td>-3853305765383967215</td>\n",
       "      <td>128</td>\n",
       "    </tr>\n",
       "    <tr>\n",
       "      <th>350580</th>\n",
       "      <td>351621</td>\n",
       "      <td>прокладки  бумажно-беловые.  натурелла макси 7...</td>\n",
       "      <td>10</td>\n",
       "      <td>-1675504357224737276</td>\n",
       "      <td>128</td>\n",
       "    </tr>\n",
       "    <tr>\n",
       "      <th>304663</th>\n",
       "      <td>305704</td>\n",
       "      <td>(23224) l14221 лампа lynx p21/5w s25 12v21/5w ...</td>\n",
       "      <td>10</td>\n",
       "      <td>-6738428353102454581</td>\n",
       "      <td>128</td>\n",
       "    </tr>\n",
       "    <tr>\n",
       "      <th>509247</th>\n",
       "      <td>510296</td>\n",
       "      <td>,молоко,0.0,,10.0,1.0,2021-02-16,г.севастополь...</td>\n",
       "      <td>3</td>\n",
       "      <td>-7368307349825764719</td>\n",
       "      <td>135</td>\n",
       "    </tr>\n",
       "    <tr>\n",
       "      <th>115479</th>\n",
       "      <td>116514</td>\n",
       "      <td>,== 7.2.04 определение содержания антител к ан...</td>\n",
       "      <td>10</td>\n",
       "      <td>4139881878007909570</td>\n",
       "      <td>138</td>\n",
       "    </tr>\n",
       "  </tbody>\n",
       "</table>\n",
       "<p>658041 rows × 5 columns</p>\n",
       "</div>"
      ],
      "text/plain": [
       "            id                                               name  groups  \\\n",
       "33749    34784                                                 9\"      10   \n",
       "113586  114621                                                 .\"      10   \n",
       "495140  496188                                                 3\"       3   \n",
       "438973  440014                                                 е\"      10   \n",
       "10206    11240                                                 г\"      10   \n",
       "...        ...                                                ...     ...   \n",
       "42212    43247  биг мак сет (с чикен макнаггетс 9 шт.): биг ма...      10   \n",
       "350580  351621  прокладки  бумажно-беловые.  натурелла макси 7...      10   \n",
       "304663  305704  (23224) l14221 лампа lynx p21/5w s25 12v21/5w ...      10   \n",
       "509247  510296  ,молоко,0.0,,10.0,1.0,2021-02-16,г.севастополь...       3   \n",
       "115479  116514  ,== 7.2.04 определение содержания антител к ан...      10   \n",
       "\n",
       "                       hash  len  \n",
       "33749   1994261734662351582    2  \n",
       "113586  4596263415246832009    2  \n",
       "495140   374543380145529213    2  \n",
       "438973  7620594383579161725    2  \n",
       "10206    638295317084937686    2  \n",
       "...                     ...  ...  \n",
       "42212  -3853305765383967215  128  \n",
       "350580 -1675504357224737276  128  \n",
       "304663 -6738428353102454581  128  \n",
       "509247 -7368307349825764719  135  \n",
       "115479  4139881878007909570  138  \n",
       "\n",
       "[658041 rows x 5 columns]"
      ]
     },
     "execution_count": 6,
     "metadata": {},
     "output_type": "execute_result"
    }
   ],
   "source": [
    "dtrain['len'] = dtrain['name'].apply(lambda x: len(x))\n",
    "dtrain.sort_values(by = ['len'], inplace = True)\n",
    "dtrain"
   ]
  },
  {
   "cell_type": "markdown",
   "id": "a0422a87",
   "metadata": {},
   "source": [
    "# То же самое и для тестовых данных."
   ]
  },
  {
   "cell_type": "code",
   "execution_count": 7,
   "id": "f6214a49",
   "metadata": {},
   "outputs": [
    {
     "data": {
      "text/html": [
       "<div>\n",
       "<style scoped>\n",
       "    .dataframe tbody tr th:only-of-type {\n",
       "        vertical-align: middle;\n",
       "    }\n",
       "\n",
       "    .dataframe tbody tr th {\n",
       "        vertical-align: top;\n",
       "    }\n",
       "\n",
       "    .dataframe thead th {\n",
       "        text-align: right;\n",
       "    }\n",
       "</style>\n",
       "<table border=\"1\" class=\"dataframe\">\n",
       "  <thead>\n",
       "    <tr style=\"text-align: right;\">\n",
       "      <th></th>\n",
       "      <th>id</th>\n",
       "      <th>name</th>\n",
       "      <th>len</th>\n",
       "    </tr>\n",
       "  </thead>\n",
       "  <tbody>\n",
       "    <tr>\n",
       "      <th>16254</th>\n",
       "      <td>26783</td>\n",
       "      <td>1</td>\n",
       "      <td>1</td>\n",
       "    </tr>\n",
       "    <tr>\n",
       "      <th>70332</th>\n",
       "      <td>80861</td>\n",
       "      <td>1\"</td>\n",
       "      <td>2</td>\n",
       "    </tr>\n",
       "    <tr>\n",
       "      <th>140344</th>\n",
       "      <td>150873</td>\n",
       "      <td>)\"</td>\n",
       "      <td>2</td>\n",
       "    </tr>\n",
       "    <tr>\n",
       "      <th>193446</th>\n",
       "      <td>203975</td>\n",
       "      <td>aa</td>\n",
       "      <td>2</td>\n",
       "    </tr>\n",
       "    <tr>\n",
       "      <th>252412</th>\n",
       "      <td>262941</td>\n",
       "      <td>а\"</td>\n",
       "      <td>2</td>\n",
       "    </tr>\n",
       "    <tr>\n",
       "      <th>...</th>\n",
       "      <td>...</td>\n",
       "      <td>...</td>\n",
       "      <td>...</td>\n",
       "    </tr>\n",
       "    <tr>\n",
       "      <th>78631</th>\n",
       "      <td>89160</td>\n",
       "      <td>лапша 70 гр стакан роллтон горячая порция лапш...</td>\n",
       "      <td>128</td>\n",
       "    </tr>\n",
       "    <tr>\n",
       "      <th>213517</th>\n",
       "      <td>224046</td>\n",
       "      <td>и.п.постников ментос   меллер  в ассортиментеф...</td>\n",
       "      <td>128</td>\n",
       "    </tr>\n",
       "    <tr>\n",
       "      <th>265881</th>\n",
       "      <td>276410</td>\n",
       "      <td>и.п.постников карамель \"chupa chups xxl trio \"...</td>\n",
       "      <td>128</td>\n",
       "    </tr>\n",
       "    <tr>\n",
       "      <th>159833</th>\n",
       "      <td>170362</td>\n",
       "      <td>компливит аква д3 15000ме/мл. 10мл фл/кап капл...</td>\n",
       "      <td>128</td>\n",
       "    </tr>\n",
       "    <tr>\n",
       "      <th>163123</th>\n",
       "      <td>173652</td>\n",
       "      <td>адреналин, 0,25л. напиток безалкогольный тониз...</td>\n",
       "      <td>128</td>\n",
       "    </tr>\n",
       "  </tbody>\n",
       "</table>\n",
       "<p>282227 rows × 3 columns</p>\n",
       "</div>"
      ],
      "text/plain": [
       "            id                                               name  len\n",
       "16254    26783                                                  1    1\n",
       "70332    80861                                                 1\"    2\n",
       "140344  150873                                                 )\"    2\n",
       "193446  203975                                                 aa    2\n",
       "252412  262941                                                 а\"    2\n",
       "...        ...                                                ...  ...\n",
       "78631    89160  лапша 70 гр стакан роллтон горячая порция лапш...  128\n",
       "213517  224046  и.п.постников ментос   меллер  в ассортиментеф...  128\n",
       "265881  276410  и.п.постников карамель \"chupa chups xxl trio \"...  128\n",
       "159833  170362  компливит аква д3 15000ме/мл. 10мл фл/кап капл...  128\n",
       "163123  173652  адреналин, 0,25л. напиток безалкогольный тониз...  128\n",
       "\n",
       "[282227 rows x 3 columns]"
      ]
     },
     "execution_count": 7,
     "metadata": {},
     "output_type": "execute_result"
    }
   ],
   "source": [
    "dtest['len'] = dtest['name'].apply(lambda x: len(str(x)))\n",
    "dtest.sort_values(by = ['len'], inplace = True)\n",
    "dtest"
   ]
  },
  {
   "cell_type": "markdown",
   "id": "099ab16a",
   "metadata": {},
   "source": [
    "# Кодирую целевцю переменую. Смотрю распределение по классам."
   ]
  },
  {
   "cell_type": "code",
   "execution_count": 11,
   "id": "b8842590",
   "metadata": {},
   "outputs": [
    {
     "name": "stdout",
     "output_type": "stream",
     "text": [
      "0 21566\n",
      "1 17136\n",
      "2 3902\n",
      "3 21045\n",
      "4 27591\n",
      "5 10007\n",
      "6 12051\n",
      "7 42002\n",
      "8 502741\n"
     ]
    }
   ],
   "source": [
    "le_target = LabelEncoder()\n",
    "dtrain[target] = le_target.fit_transform(dtrain[target].values.ravel())\n",
    "\n",
    "\n",
    "for u in sorted(dtrain[target].unique()):\n",
    "    print(u, dtrain[dtrain[target] == u].shape[0])"
   ]
  },
  {
   "cell_type": "markdown",
   "id": "451071e7",
   "metadata": {},
   "source": [
    "# Разделяю на тренировочную и проверочную часть"
   ]
  },
  {
   "cell_type": "code",
   "execution_count": 12,
   "id": "a5efa336",
   "metadata": {},
   "outputs": [
    {
     "name": "stdout",
     "output_type": "stream",
     "text": [
      "(592236, 5)\n",
      "(65805, 5)\n"
     ]
    }
   ],
   "source": [
    "train, valid = train_test_split(\n",
    "    dtrain,\n",
    "    test_size = 0.1, \n",
    "    random_state = 2,\n",
    "    stratify = dtrain[target]\n",
    ")\n",
    "\n",
    "print(train.shape)\n",
    "print(valid.shape)"
   ]
  },
  {
   "cell_type": "markdown",
   "id": "8f74c794",
   "metadata": {},
   "source": [
    "# Описываю обработчик текстовой информации на основе n-грамм."
   ]
  },
  {
   "cell_type": "code",
   "execution_count": 1,
   "id": "b1a53a9a",
   "metadata": {},
   "outputs": [
    {
     "name": "stdout",
     "output_type": "stream",
     "text": [
      "The history saving thread hit an unexpected error (DatabaseError('database disk image is malformed')).History will not be written to the database.\n"
     ]
    }
   ],
   "source": [
    "text_processing = {\n",
    "    \"tokenizers\" : [{\n",
    "        \"tokenizer_id\" : \"Space\",\n",
    "        \"separator_type\" : \"ByDelimiter\",\n",
    "        \"delimiter\" : \" \"\n",
    "    }],\n",
    "\n",
    "    \"dictionaries\" : [{\n",
    "        \"dictionary_id\" : \"BiGram\",\n",
    "        \"token_level_type\": \"Letter\",\n",
    "        \"max_dictionary_size\" : \"150000\",\n",
    "        \"occurrence_lower_bound\" : \"1\",\n",
    "        \"gram_order\" : \"2\"\n",
    "    },{\n",
    "        \"dictionary_id\" : \"Trigram\",\n",
    "        \"max_dictionary_size\" : \"250000\",\n",
    "        \"token_level_type\": \"Letter\",\n",
    "        \"occurrence_lower_bound\" : \"1\",\n",
    "        \"gram_order\" : \"3\"\n",
    "    },{\n",
    "        \"dictionary_id\" : \"Fourgram\",\n",
    "        \"max_dictionary_size\" : \"150000\",\n",
    "        \"token_level_type\": \"Letter\",\n",
    "        \"occurrence_lower_bound\" : \"1\",\n",
    "        \"gram_order\" : \"4\"\n",
    "    },{\n",
    "        \"dictionary_id\" : \"Fivegram\",\n",
    "        \"max_dictionary_size\" : \"150000\",\n",
    "        \"token_level_type\": \"Letter\",\n",
    "        \"occurrence_lower_bound\" : \"1\",\n",
    "        \"gram_order\" : \"5\"\n",
    "    },{\n",
    "        \"dictionary_id\" : \"Sixgram\",\n",
    "        \"max_dictionary_size\" : \"150000\",\n",
    "        \"token_level_type\": \"Letter\",\n",
    "        \"occurrence_lower_bound\" : \"1\",\n",
    "        \"gram_order\" : \"6\"\n",
    "        }\n",
    "    ],\n",
    "\n",
    "    \"feature_processing\" : {\n",
    "        \"default\" : [{\n",
    "            \"dictionaries_names\" : [\n",
    "                \"BiGram\", \n",
    "                \"Trigram\", \n",
    "                \"Fourgram\", \n",
    "                \"Fivegram\", \n",
    "                \"Sixgram\"\n",
    "            ],\n",
    "            \"feature_calcers\" : [\"BoW\"],\n",
    "            \"tokenizers_names\" : [\"Space\"]\n",
    "        },{\n",
    "            \"dictionaries_names\" : [\n",
    "                \"BiGram\", \n",
    "                \"Trigram\", \n",
    "                \"Fourgram\", \n",
    "                \"Fivegram\", \n",
    "                \"Sixgram\"\n",
    "            ],\n",
    "            \"feature_calcers\" : [\"NaiveBayes\"],\n",
    "            \"tokenizers_names\" : [\"Space\"]\n",
    "        },{\n",
    "            \"dictionaries_names\" : [\n",
    "                \"BiGram\", \n",
    "                \"Trigram\", \n",
    "                \"Fourgram\", \n",
    "                \"Fivegram\", \n",
    "                \"Sixgram\"\n",
    "            ],\n",
    "            \"feature_calcers\" : [\"BM25\"],\n",
    "            \"tokenizers_names\" : [\"Space\"]\n",
    "        },\n",
    "        ],\n",
    "    }\n",
    "}"
   ]
  },
  {
   "cell_type": "code",
   "execution_count": 13,
   "id": "b44f6405",
   "metadata": {},
   "outputs": [],
   "source": [
    "use = ['name']"
   ]
  },
  {
   "cell_type": "markdown",
   "id": "b8e33031",
   "metadata": {},
   "source": [
    "# Тренировка 3-х моделей"
   ]
  },
  {
   "cell_type": "code",
   "execution_count": 14,
   "id": "02da37ab",
   "metadata": {
    "scrolled": true
   },
   "outputs": [
    {
     "name": "stdout",
     "output_type": "stream",
     "text": [
      "0:\tlearn: 1.5520291\ttest: 1.5519688\tbest: 1.5519688 (0)\ttotal: 107ms\tremaining: 49m 50s\n",
      "500:\tlearn: 0.0417686\ttest: 0.0412566\tbest: 0.0412566 (500)\ttotal: 43.9s\tremaining: 40m 10s\n",
      "1000:\tlearn: 0.0284204\ttest: 0.0304261\tbest: 0.0304261 (1000)\ttotal: 1m 26s\tremaining: 38m 42s\n",
      "1500:\tlearn: 0.0223959\ttest: 0.0258557\tbest: 0.0258557 (1500)\ttotal: 2m 7s\tremaining: 37m 24s\n",
      "2000:\tlearn: 0.0186691\ttest: 0.0233675\tbest: 0.0233675 (2000)\ttotal: 2m 47s\tremaining: 36m 21s\n",
      "2500:\tlearn: 0.0158690\ttest: 0.0217251\tbest: 0.0217241 (2499)\ttotal: 3m 29s\tremaining: 35m 31s\n",
      "3000:\tlearn: 0.0137159\ttest: 0.0205666\tbest: 0.0205666 (3000)\ttotal: 4m 10s\tremaining: 34m 43s\n",
      "3500:\tlearn: 0.0119721\ttest: 0.0195488\tbest: 0.0195488 (3500)\ttotal: 4m 51s\tremaining: 34m\n",
      "4000:\tlearn: 0.0105564\ttest: 0.0187354\tbest: 0.0187354 (4000)\ttotal: 5m 33s\tremaining: 33m 20s\n",
      "4500:\tlearn: 0.0093773\ttest: 0.0181174\tbest: 0.0181174 (4500)\ttotal: 6m 14s\tremaining: 32m 36s\n",
      "5000:\tlearn: 0.0084099\ttest: 0.0176286\tbest: 0.0176284 (4999)\ttotal: 6m 56s\tremaining: 31m 54s\n",
      "5500:\tlearn: 0.0075601\ttest: 0.0172231\tbest: 0.0172231 (5500)\ttotal: 7m 38s\tremaining: 31m 13s\n",
      "6000:\tlearn: 0.0068216\ttest: 0.0169074\tbest: 0.0169041 (5991)\ttotal: 8m 19s\tremaining: 30m 31s\n",
      "6500:\tlearn: 0.0061953\ttest: 0.0166643\tbest: 0.0166568 (6469)\ttotal: 9m\tremaining: 29m 48s\n",
      "7000:\tlearn: 0.0056317\ttest: 0.0164394\tbest: 0.0164394 (7000)\ttotal: 9m 42s\tremaining: 29m 6s\n",
      "7500:\tlearn: 0.0051250\ttest: 0.0161902\tbest: 0.0161902 (7500)\ttotal: 10m 24s\tremaining: 28m 26s\n",
      "8000:\tlearn: 0.0047102\ttest: 0.0160076\tbest: 0.0160013 (7985)\ttotal: 11m 6s\tremaining: 27m 45s\n",
      "8500:\tlearn: 0.0043336\ttest: 0.0158781\tbest: 0.0158774 (8496)\ttotal: 11m 48s\tremaining: 27m 4s\n",
      "9000:\tlearn: 0.0039942\ttest: 0.0157376\tbest: 0.0157371 (8989)\ttotal: 12m 29s\tremaining: 26m 22s\n",
      "9500:\tlearn: 0.0036967\ttest: 0.0156482\tbest: 0.0156346 (9434)\ttotal: 13m 11s\tremaining: 25m 40s\n",
      "10000:\tlearn: 0.0034160\ttest: 0.0155334\tbest: 0.0155316 (9997)\ttotal: 13m 53s\tremaining: 24m 59s\n",
      "10500:\tlearn: 0.0031714\ttest: 0.0154382\tbest: 0.0154382 (10500)\ttotal: 14m 34s\tremaining: 24m 17s\n",
      "11000:\tlearn: 0.0029494\ttest: 0.0153806\tbest: 0.0153796 (10999)\ttotal: 15m 16s\tremaining: 23m 36s\n",
      "11500:\tlearn: 0.0027465\ttest: 0.0153306\tbest: 0.0153304 (11498)\ttotal: 15m 58s\tremaining: 22m 54s\n",
      "12000:\tlearn: 0.0025621\ttest: 0.0153052\tbest: 0.0153046 (11999)\ttotal: 16m 40s\tremaining: 22m 13s\n",
      "12500:\tlearn: 0.0023872\ttest: 0.0152616\tbest: 0.0152551 (12443)\ttotal: 17m 22s\tremaining: 21m 32s\n",
      "13000:\tlearn: 0.0022390\ttest: 0.0152407\tbest: 0.0152324 (12976)\ttotal: 18m 3s\tremaining: 20m 49s\n",
      "13500:\tlearn: 0.0021020\ttest: 0.0152044\tbest: 0.0152044 (13499)\ttotal: 18m 44s\tremaining: 20m 7s\n",
      "14000:\tlearn: 0.0019762\ttest: 0.0151987\tbest: 0.0151870 (13773)\ttotal: 19m 25s\tremaining: 19m 25s\n",
      "bestTest = 0.01518695577\n",
      "bestIteration = 13773\n",
      "Shrink model to first 13774 iterations.\n",
      "0:\tlearn: 1.5495898\ttest: 1.5494407\tbest: 1.5494407 (0)\ttotal: 103ms\tremaining: 48m 12s\n",
      "500:\tlearn: 0.0417662\ttest: 0.0416200\tbest: 0.0416200 (500)\ttotal: 43.4s\tremaining: 39m 39s\n",
      "1000:\tlearn: 0.0287367\ttest: 0.0308563\tbest: 0.0308563 (1000)\ttotal: 1m 24s\tremaining: 38m 8s\n",
      "1500:\tlearn: 0.0226437\ttest: 0.0263532\tbest: 0.0263532 (1500)\ttotal: 2m 5s\tremaining: 36m 51s\n",
      "2000:\tlearn: 0.0187301\ttest: 0.0237926\tbest: 0.0237926 (2000)\ttotal: 2m 45s\tremaining: 35m 50s\n",
      "2500:\tlearn: 0.0159566\ttest: 0.0220856\tbest: 0.0220854 (2499)\ttotal: 3m 25s\tremaining: 34m 59s\n",
      "3000:\tlearn: 0.0139056\ttest: 0.0209232\tbest: 0.0209232 (3000)\ttotal: 4m 6s\tremaining: 34m 10s\n",
      "3500:\tlearn: 0.0121193\ttest: 0.0198610\tbest: 0.0198610 (3500)\ttotal: 4m 46s\tremaining: 33m 27s\n",
      "4000:\tlearn: 0.0107076\ttest: 0.0190813\tbest: 0.0190813 (4000)\ttotal: 5m 27s\tremaining: 32m 46s\n",
      "4500:\tlearn: 0.0094959\ttest: 0.0184709\tbest: 0.0184709 (4500)\ttotal: 6m 8s\tremaining: 32m 4s\n",
      "5000:\tlearn: 0.0084944\ttest: 0.0179491\tbest: 0.0179486 (4987)\ttotal: 6m 49s\tremaining: 31m 22s\n",
      "5500:\tlearn: 0.0076411\ttest: 0.0175778\tbest: 0.0175778 (5500)\ttotal: 7m 30s\tremaining: 30m 41s\n",
      "6000:\tlearn: 0.0068846\ttest: 0.0172373\tbest: 0.0172368 (5997)\ttotal: 8m 11s\tremaining: 30m 1s\n",
      "6500:\tlearn: 0.0062694\ttest: 0.0169524\tbest: 0.0169518 (6497)\ttotal: 8m 52s\tremaining: 29m 21s\n",
      "7000:\tlearn: 0.0056927\ttest: 0.0167014\tbest: 0.0166986 (6999)\ttotal: 9m 33s\tremaining: 28m 41s\n",
      "7500:\tlearn: 0.0052162\ttest: 0.0164785\tbest: 0.0164769 (7497)\ttotal: 10m 15s\tremaining: 28m\n",
      "8000:\tlearn: 0.0047711\ttest: 0.0162782\tbest: 0.0162782 (8000)\ttotal: 10m 56s\tremaining: 27m 20s\n",
      "8500:\tlearn: 0.0043874\ttest: 0.0161409\tbest: 0.0161381 (8493)\ttotal: 11m 37s\tremaining: 26m 40s\n",
      "9000:\tlearn: 0.0040307\ttest: 0.0159979\tbest: 0.0159958 (8992)\ttotal: 12m 19s\tremaining: 26m\n",
      "9500:\tlearn: 0.0037163\ttest: 0.0158704\tbest: 0.0158679 (9475)\ttotal: 13m\tremaining: 25m 19s\n",
      "10000:\tlearn: 0.0034403\ttest: 0.0157587\tbest: 0.0157563 (9976)\ttotal: 13m 41s\tremaining: 24m 39s\n",
      "10500:\tlearn: 0.0031978\ttest: 0.0156890\tbest: 0.0156890 (10500)\ttotal: 14m 23s\tremaining: 23m 58s\n",
      "11000:\tlearn: 0.0029704\ttest: 0.0156327\tbest: 0.0156327 (11000)\ttotal: 15m 4s\tremaining: 23m 17s\n",
      "11500:\tlearn: 0.0027673\ttest: 0.0155603\tbest: 0.0155550 (11433)\ttotal: 15m 46s\tremaining: 22m 37s\n",
      "12000:\tlearn: 0.0025807\ttest: 0.0154907\tbest: 0.0154821 (11924)\ttotal: 16m 27s\tremaining: 21m 55s\n",
      "12500:\tlearn: 0.0024103\ttest: 0.0154662\tbest: 0.0154615 (12480)\ttotal: 17m 8s\tremaining: 21m 15s\n",
      "13000:\tlearn: 0.0022533\ttest: 0.0154235\tbest: 0.0154228 (12998)\ttotal: 17m 50s\tremaining: 20m 34s\n",
      "13500:\tlearn: 0.0021105\ttest: 0.0154286\tbest: 0.0154109 (13269)\ttotal: 18m 31s\tremaining: 19m 54s\n",
      "14000:\tlearn: 0.0019769\ttest: 0.0154166\tbest: 0.0154035 (13661)\ttotal: 19m 13s\tremaining: 19m 13s\n",
      "bestTest = 0.01540346942\n",
      "bestIteration = 13661\n",
      "Shrink model to first 13662 iterations.\n",
      "0:\tlearn: 1.5494501\ttest: 1.5487920\tbest: 1.5487920 (0)\ttotal: 103ms\tremaining: 47m 55s\n",
      "500:\tlearn: 0.0421075\ttest: 0.0416736\tbest: 0.0416736 (500)\ttotal: 43.2s\tremaining: 39m 29s\n",
      "1000:\tlearn: 0.0284728\ttest: 0.0305478\tbest: 0.0305478 (1000)\ttotal: 1m 24s\tremaining: 38m 11s\n",
      "1500:\tlearn: 0.0225259\ttest: 0.0262099\tbest: 0.0262099 (1500)\ttotal: 2m 5s\tremaining: 36m 55s\n",
      "2000:\tlearn: 0.0187652\ttest: 0.0235589\tbest: 0.0235589 (2000)\ttotal: 2m 45s\tremaining: 35m 54s\n",
      "2500:\tlearn: 0.0159047\ttest: 0.0218246\tbest: 0.0218246 (2500)\ttotal: 3m 26s\tremaining: 35m 3s\n",
      "3000:\tlearn: 0.0137496\ttest: 0.0206946\tbest: 0.0206933 (2999)\ttotal: 4m 7s\tremaining: 34m 19s\n",
      "3500:\tlearn: 0.0120338\ttest: 0.0196924\tbest: 0.0196924 (3500)\ttotal: 4m 47s\tremaining: 33m 35s\n",
      "4000:\tlearn: 0.0106420\ttest: 0.0189787\tbest: 0.0189782 (3999)\ttotal: 5m 28s\tremaining: 32m 52s\n",
      "4500:\tlearn: 0.0094464\ttest: 0.0183572\tbest: 0.0183564 (4497)\ttotal: 6m 10s\tremaining: 32m 11s\n",
      "5000:\tlearn: 0.0084262\ttest: 0.0177904\tbest: 0.0177904 (5000)\ttotal: 6m 51s\tremaining: 31m 31s\n",
      "5500:\tlearn: 0.0075823\ttest: 0.0173846\tbest: 0.0173841 (5499)\ttotal: 7m 32s\tremaining: 30m 50s\n",
      "6000:\tlearn: 0.0068481\ttest: 0.0170229\tbest: 0.0170224 (5999)\ttotal: 8m 13s\tremaining: 30m 9s\n",
      "6500:\tlearn: 0.0061875\ttest: 0.0167595\tbest: 0.0167595 (6500)\ttotal: 8m 55s\tremaining: 29m 30s\n",
      "7000:\tlearn: 0.0056114\ttest: 0.0164947\tbest: 0.0164944 (6999)\ttotal: 9m 36s\tremaining: 28m 49s\n",
      "7500:\tlearn: 0.0051291\ttest: 0.0162817\tbest: 0.0162817 (7500)\ttotal: 10m 18s\tremaining: 28m 9s\n",
      "8000:\tlearn: 0.0046995\ttest: 0.0161663\tbest: 0.0161663 (8000)\ttotal: 10m 59s\tremaining: 27m 29s\n",
      "8500:\tlearn: 0.0043301\ttest: 0.0160229\tbest: 0.0160159 (8449)\ttotal: 11m 40s\tremaining: 26m 47s\n",
      "9000:\tlearn: 0.0039768\ttest: 0.0159071\tbest: 0.0159071 (9000)\ttotal: 12m 22s\tremaining: 26m 6s\n",
      "9500:\tlearn: 0.0036694\ttest: 0.0157803\tbest: 0.0157789 (9491)\ttotal: 13m 3s\tremaining: 25m 25s\n",
      "10000:\tlearn: 0.0034006\ttest: 0.0156867\tbest: 0.0156867 (10000)\ttotal: 13m 44s\tremaining: 24m 43s\n",
      "10500:\tlearn: 0.0031511\ttest: 0.0156103\tbest: 0.0156091 (10499)\ttotal: 14m 26s\tremaining: 24m 3s\n",
      "11000:\tlearn: 0.0029366\ttest: 0.0155992\tbest: 0.0155952 (10832)\ttotal: 15m 7s\tremaining: 23m 21s\n",
      "11500:\tlearn: 0.0027320\ttest: 0.0155318\tbest: 0.0155242 (11340)\ttotal: 15m 48s\tremaining: 22m 40s\n",
      "12000:\tlearn: 0.0025454\ttest: 0.0154608\tbest: 0.0154608 (12000)\ttotal: 16m 29s\tremaining: 21m 59s\n",
      "12500:\tlearn: 0.0023826\ttest: 0.0154064\tbest: 0.0153980 (12448)\ttotal: 17m 10s\tremaining: 21m 17s\n",
      "13000:\tlearn: 0.0022339\ttest: 0.0153866\tbest: 0.0153866 (13000)\ttotal: 17m 52s\tremaining: 20m 36s\n"
     ]
    },
    {
     "name": "stdout",
     "output_type": "stream",
     "text": [
      "13500:\tlearn: 0.0020993\ttest: 0.0153727\tbest: 0.0153712 (13493)\ttotal: 18m 32s\tremaining: 19m 55s\n",
      "14000:\tlearn: 0.0019699\ttest: 0.0153528\tbest: 0.0153446 (13971)\ttotal: 19m 13s\tremaining: 19m 13s\n",
      "14500:\tlearn: 0.0018563\ttest: 0.0153440\tbest: 0.0153435 (14499)\ttotal: 19m 55s\tremaining: 18m 32s\n",
      "15000:\tlearn: 0.0017410\ttest: 0.0153505\tbest: 0.0153334 (14728)\ttotal: 20m 36s\tremaining: 17m 51s\n",
      "bestTest = 0.01533341047\n",
      "bestIteration = 14728\n",
      "Shrink model to first 14729 iterations.\n"
     ]
    }
   ],
   "source": [
    "iterations = 28000\n",
    "early_stopping_rounds = 500\n",
    "\n",
    "SEEDS = 3\n",
    "models = []\n",
    "\n",
    "for seed in range(SEEDS):\n",
    "\n",
    "    model = CatBoostClassifier(\n",
    "        text_features = ['name'],\n",
    "        iterations = iterations,\n",
    "        depth = 5, \n",
    "        learning_rate = 0.1,\n",
    "        reg_lambda = 0.3,\n",
    "        loss_function = 'MultiClass',\n",
    "        task_type = task_type,\n",
    "        random_state = seed,\n",
    "        early_stopping_rounds = early_stopping_rounds,\n",
    "        verbose = 500,\n",
    "        text_processing = text_processing\n",
    "    )\n",
    "\n",
    "    model.fit(\n",
    "        train[use],\n",
    "        train[target],\n",
    "        eval_set = (valid[use], valid[target]),\n",
    "    )\n",
    "    models.append(model)"
   ]
  },
  {
   "cell_type": "markdown",
   "id": "b07c09bc",
   "metadata": {},
   "source": [
    "# Смотрю на качество модели на проверочной части."
   ]
  },
  {
   "cell_type": "code",
   "execution_count": 15,
   "id": "97501abd",
   "metadata": {},
   "outputs": [
    {
     "name": "stdout",
     "output_type": "stream",
     "text": [
      "              precision    recall  f1-score   support\n",
      "\n",
      "           0       1.00      1.00      1.00      2157\n",
      "           1       0.98      0.99      0.99      1714\n",
      "           2       0.98      0.98      0.98       390\n",
      "           3       0.99      1.00      1.00      2104\n",
      "           4       1.00      1.00      1.00      2759\n",
      "           5       0.96      0.97      0.96      1001\n",
      "           6       0.97      0.98      0.97      1205\n",
      "           7       1.00      1.00      1.00      4200\n",
      "           8       1.00      1.00      1.00     50275\n",
      "\n",
      "    accuracy                           1.00     65805\n",
      "   macro avg       0.99      0.99      0.99     65805\n",
      "weighted avg       1.00      1.00      1.00     65805\n",
      "\n"
     ]
    }
   ],
   "source": [
    "valid_preds = []\n",
    "\n",
    "for model in models:\n",
    "    valid_preds.append(model.predict(valid[use]).ravel())\n",
    "    \n",
    "valid_preds = stats.mode(valid_preds)[0][0]\n",
    "\n",
    "print(classification_report(valid[target], valid_preds))"
   ]
  },
  {
   "cell_type": "code",
   "execution_count": 16,
   "id": "08b2c890",
   "metadata": {},
   "outputs": [
    {
     "name": "stdout",
     "output_type": "stream",
     "text": [
      "Recall score: 0.9884951764356804\n"
     ]
    }
   ],
   "source": [
    "score = recall_score(valid[target], valid_preds, average = 'macro')\n",
    "print(\"Recall score:\", score)"
   ]
  },
  {
   "cell_type": "code",
   "execution_count": null,
   "id": "cbc07bdb",
   "metadata": {},
   "outputs": [],
   "source": []
  },
  {
   "cell_type": "markdown",
   "id": "788c30c6",
   "metadata": {},
   "source": [
    "# Формируем и сохраняем файл решения"
   ]
  },
  {
   "cell_type": "code",
   "execution_count": 19,
   "id": "d078798f",
   "metadata": {},
   "outputs": [],
   "source": [
    "preds = []\n",
    "\n",
    "for model in models:\n",
    "    preds.append(model.predict(dtest[use]).ravel())\n",
    "    \n",
    "m = stats.mode(preds)[0][0]"
   ]
  },
  {
   "cell_type": "code",
   "execution_count": 20,
   "id": "21bab68e",
   "metadata": {},
   "outputs": [],
   "source": [
    "dtest[target] = m\n",
    "dtest[target] = dtest[target].astype(int)"
   ]
  },
  {
   "cell_type": "code",
   "execution_count": 21,
   "id": "f7364da8",
   "metadata": {},
   "outputs": [],
   "source": [
    "dtest[target] = le_target.inverse_transform(dtest[target].values.ravel())\n",
    "dtest[target] = dtest[target].astype(int)"
   ]
  },
  {
   "cell_type": "code",
   "execution_count": 22,
   "id": "70f67e6a",
   "metadata": {},
   "outputs": [],
   "source": [
    "dtest[['id', 'groups']].to_csv('final.csv', index = False)"
   ]
  },
  {
   "cell_type": "code",
   "execution_count": 23,
   "id": "c3fc458e",
   "metadata": {},
   "outputs": [
    {
     "data": {
      "text/html": [
       "<div>\n",
       "<style scoped>\n",
       "    .dataframe tbody tr th:only-of-type {\n",
       "        vertical-align: middle;\n",
       "    }\n",
       "\n",
       "    .dataframe tbody tr th {\n",
       "        vertical-align: top;\n",
       "    }\n",
       "\n",
       "    .dataframe thead th {\n",
       "        text-align: right;\n",
       "    }\n",
       "</style>\n",
       "<table border=\"1\" class=\"dataframe\">\n",
       "  <thead>\n",
       "    <tr style=\"text-align: right;\">\n",
       "      <th></th>\n",
       "      <th>id</th>\n",
       "      <th>groups</th>\n",
       "    </tr>\n",
       "  </thead>\n",
       "  <tbody>\n",
       "    <tr>\n",
       "      <th>16254</th>\n",
       "      <td>26783</td>\n",
       "      <td>10</td>\n",
       "    </tr>\n",
       "    <tr>\n",
       "      <th>70332</th>\n",
       "      <td>80861</td>\n",
       "      <td>10</td>\n",
       "    </tr>\n",
       "    <tr>\n",
       "      <th>140344</th>\n",
       "      <td>150873</td>\n",
       "      <td>10</td>\n",
       "    </tr>\n",
       "    <tr>\n",
       "      <th>193446</th>\n",
       "      <td>203975</td>\n",
       "      <td>10</td>\n",
       "    </tr>\n",
       "    <tr>\n",
       "      <th>252412</th>\n",
       "      <td>262941</td>\n",
       "      <td>10</td>\n",
       "    </tr>\n",
       "  </tbody>\n",
       "</table>\n",
       "</div>"
      ],
      "text/plain": [
       "            id  groups\n",
       "16254    26783      10\n",
       "70332    80861      10\n",
       "140344  150873      10\n",
       "193446  203975      10\n",
       "252412  262941      10"
      ]
     },
     "execution_count": 23,
     "metadata": {},
     "output_type": "execute_result"
    }
   ],
   "source": [
    "dtest[['id', 'groups']].head()"
   ]
  },
  {
   "cell_type": "code",
   "execution_count": 24,
   "id": "f7c4c306",
   "metadata": {},
   "outputs": [
    {
     "name": "stdout",
     "output_type": "stream",
     "text": [
      "0 9277\n",
      "1 7553\n",
      "2 1654\n",
      "3 8989\n",
      "4 11819\n",
      "6 4383\n",
      "7 5206\n",
      "9 17843\n",
      "10 215503\n"
     ]
    }
   ],
   "source": [
    "for u in sorted(dtest[target].unique()):\n",
    "    print(u, dtest[dtest[target] == u].shape[0])"
   ]
  },
  {
   "cell_type": "code",
   "execution_count": null,
   "id": "5e332b0d",
   "metadata": {},
   "outputs": [],
   "source": []
  },
  {
   "cell_type": "code",
   "execution_count": null,
   "id": "7e095b62",
   "metadata": {},
   "outputs": [],
   "source": []
  },
  {
   "cell_type": "raw",
   "id": "13c0d77e",
   "metadata": {},
   "source": [
    "!echo '123' | sudo -S shutdown -h +5 \"Компьютер будет выключен через 5 минут\""
   ]
  },
  {
   "cell_type": "code",
   "execution_count": null,
   "id": "05f62959",
   "metadata": {},
   "outputs": [],
   "source": []
  },
  {
   "cell_type": "markdown",
   "id": "6a489e47",
   "metadata": {},
   "source": [
    "https://lk.hacks-ai.ru/758275/champ"
   ]
  }
 ],
 "metadata": {
  "kernelspec": {
   "display_name": "Python 3 (ipykernel)",
   "language": "python",
   "name": "python3"
  },
  "language_info": {
   "codemirror_mode": {
    "name": "ipython",
    "version": 3
   },
   "file_extension": ".py",
   "mimetype": "text/x-python",
   "name": "python",
   "nbconvert_exporter": "python",
   "pygments_lexer": "ipython3",
   "version": "3.9.12"
  }
 },
 "nbformat": 4,
 "nbformat_minor": 5
}
